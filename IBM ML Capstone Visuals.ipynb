{
 "cells": [
  {
   "cell_type": "markdown",
   "id": "f8e5b06b-4a7d-4d9a-8c78-89354f576db4",
   "metadata": {},
   "source": [
    "## Libraries"
   ]
  },
  {
   "cell_type": "code",
   "execution_count": null,
   "id": "19d4956e-4d21-4255-b83c-06fb69e52299",
   "metadata": {},
   "outputs": [],
   "source": [
    "import seaborn as sns\n",
    "import matplotlib.pyplot as plt"
   ]
  },
  {
   "cell_type": "markdown",
   "id": "2ba36e37-9cfa-4a5f-9512-2e22b5ec381d",
   "metadata": {},
   "source": [
    "## Custom Bar Chart Code"
   ]
  },
  {
   "cell_type": "code",
   "execution_count": null,
   "id": "20705b35-257c-4e7b-b81b-252242b226dd",
   "metadata": {},
   "outputs": [],
   "source": [
    "import matplotlib.pyplot as plt\n",
    "\n",
    "\n",
    "average_course_per_user1 = 43.3 \n",
    "average_course_per_user2 = 28.1 \n",
    "\n",
    "# Bar chart data\n",
    "thresholds = ['Threshold 15', 'Threshold 20']\n",
    "values = [average_course_per_user1, average_course_per_user2]\n",
    "\n",
    "# adjust figure size\n",
    "plt.figure(figsize=(6, 8))\n",
    "\n",
    "plt.bar(thresholds, values, color=['palevioletred', 'darkorchid'])\n",
    "\n",
    "# Add labels and title\n",
    "plt.xlabel('Avg. Recommended Courses per User')\n",
    "plt.ylabel('Number of Courses')\n",
    "plt.title('Threshold Comparison of Recommended Courses')\n",
    "\n",
    "# Add legend\n",
    "plt.legend(['Threshold 15', 'Threshold 20'])\n",
    "\n",
    "# Save the figure\n",
    "#plt.savefig('threshold_comparison_bar_chart.png')\n",
    "\n",
    "# Display the bar chart\n",
    "plt.show()"
   ]
  },
  {
   "cell_type": "markdown",
   "id": "8f4014ae-c810-4324-80cd-934a71fab5a0",
   "metadata": {},
   "source": [
    "## Rainbow Bar Chart"
   ]
  },
  {
   "cell_type": "code",
   "execution_count": null,
   "id": "f32f7b73-b21b-42b7-b6a9-15f5fef53819",
   "metadata": {},
   "outputs": [],
   "source": [
    "\n",
    "\n",
    "id_counts = res_df['COURSE_ID'].value_counts().sort_values(ascending=False).head(10)\n",
    "\n",
    "# Increase the figure size to accommodate x-axis labels\n",
    "plt.figure(figsize=(12, 4))\n",
    "\n",
    "# Plotting\n",
    "sns.barplot(x=id_counts.index, y=id_counts.values, palette='rainbow')\n",
    "plt.title('Top 10 Most Frequent Course IDs (Threshold 15)')\n",
    "plt.xlabel('Course ID')\n",
    "plt.ylabel('Frequency')\n",
    "plt.xticks(rotation=45, ha='right') y\n",
    "plt.tight_layout()  \n",
    "\n",
    "# Save the figure\n",
    "#plt.savefig('top_10_courses_threshold_20.png')\n",
    "\n",
    "# Show the plot\n",
    "plt.show()"
   ]
  },
  {
   "cell_type": "markdown",
   "id": "4f39ee1d-1135-4cff-9019-0826b2cdde8d",
   "metadata": {},
   "source": [
    "## Plot Validation Loss"
   ]
  },
  {
   "cell_type": "code",
   "execution_count": null,
   "id": "fac1fca7-d9a7-4c05-b171-ff9c22999ea2",
   "metadata": {},
   "outputs": [],
   "source": [
    "# Access validation loss from the history object\n",
    "val_loss = history.history['val_loss']\n",
    "\n",
    "# Plot the validation loss\n",
    "plt.plot(val_loss, label='Validation Loss')\n",
    "plt.xlabel('Epoch')\n",
    "plt.ylabel('Loss')\n",
    "plt.legend()\n",
    "plt.show()"
   ]
  },
  {
   "cell_type": "code",
   "execution_count": null,
   "id": "8c6802ca-9ccf-4f00-a6f4-b7b994ab0838",
   "metadata": {},
   "outputs": [],
   "source": []
  }
 ],
 "metadata": {
  "kernelspec": {
   "display_name": "Python 3 (ipykernel)",
   "language": "python",
   "name": "python3"
  },
  "language_info": {
   "codemirror_mode": {
    "name": "ipython",
    "version": 3
   },
   "file_extension": ".py",
   "mimetype": "text/x-python",
   "name": "python",
   "nbconvert_exporter": "python",
   "pygments_lexer": "ipython3",
   "version": "3.11.5"
  }
 },
 "nbformat": 4,
 "nbformat_minor": 5
}
